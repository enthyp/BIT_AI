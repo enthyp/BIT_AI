{
 "cells": [
  {
   "cell_type": "markdown",
   "metadata": {},
   "source": [
    "# Welcome!"
   ]
  },
  {
   "cell_type": "markdown",
   "metadata": {},
   "source": [
    "We are going to dive into powerful universe of machine learning models. We will start with the easiest one. The idea of learning and intuition will be the same in almost all models, so make sure that you understand upcoming concept first."
   ]
  },
  {
   "cell_type": "markdown",
   "metadata": {},
   "source": [
    "## Linear model"
   ]
  },
  {
   "cell_type": "markdown",
   "metadata": {},
   "source": [
    "# $$\\hat{y} = w_0 + w_1x_1+ w_2x_2+ w_3x_3+ ... + w_nx_n$$ "
   ]
  },
  {
   "cell_type": "markdown",
   "metadata": {},
   "source": [
    "# $$\\hat{y} = w_0 + w_1x_1$$ "
   ]
  },
  {
   "cell_type": "markdown",
   "metadata": {},
   "source": [
    "### Imports"
   ]
  },
  {
   "cell_type": "markdown",
   "metadata": {},
   "source": [
    "numpy: https://s3.amazonaws.com/assets.datacamp.com/blog_assets/Numpy_Python_Cheat_Sheet.pdf"
   ]
  },
  {
   "cell_type": "code",
   "execution_count": 7,
   "metadata": {},
   "outputs": [],
   "source": [
    "import numpy as np\n",
    "import matplotlib.pyplot as plt\n",
    "from ipywidgets import interact, fixed\n",
    "import ipywidgets as widgets\n",
    "import andrzej\n",
    "\n",
    "%matplotlib inline"
   ]
  },
  {
   "cell_type": "markdown",
   "metadata": {},
   "source": [
    "### My favorite numbers"
   ]
  },
  {
   "cell_type": "code",
   "execution_count": 8,
   "metadata": {},
   "outputs": [],
   "source": [
    "x = andrzej.x\n",
    "y = andrzej.y\n",
    "#y = andrzej.y_hard"
   ]
  },
  {
   "cell_type": "code",
   "execution_count": 9,
   "metadata": {},
   "outputs": [
    {
     "data": {
      "image/png": "[encoded data removed]",
      "text/plain": [
       "<matplotlib.figure.Figure at 0x7f11fe5922e8>"
      ]
     },
     "metadata": {},
     "output_type": "display_data"
    }
   ],
   "source": [
    "plt.scatter(x, y)\n",
    "plt.show()"
   ]
  },
  {
   "cell_type": "code",
   "execution_count": 10,
   "metadata": {},
   "outputs": [],
   "source": [
    "def plot_linear_model(a, b):\n",
    "    y_pred = a * x + b\n",
    "    plt.scatter(x, y)\n",
    "    plt.plot(x, y_pred, 'r')\n",
    "    plt.xlim([x.min() - 5, x.max() + 5])\n",
    "    plt.ylim([y.min() - 5, y.max() + 5])\n",
    "    plt.show()"
   ]
  },
  {
   "cell_type": "code",
   "execution_count": 11,
   "metadata": {},
   "outputs": [
    {
     "data": {
      "image/png": "[encoded data removed]",
      "text/plain": [
       "<matplotlib.figure.Figure at 0x7f11fe4e05c0>"
      ]
     },
     "metadata": {},
     "output_type": "display_data"
    },
    {
     "data": {
      "text/plain": [
       "<function __main__.plot_linear_model>"
      ]
     },
     "execution_count": 11,
     "metadata": {},
     "output_type": "execute_result"
    }
   ],
   "source": [
    "interact(plot_linear_model, a=(-5.0, 5.0), b=(-5.0,5.0))"
   ]
  },
  {
   "cell_type": "markdown",
   "metadata": {},
   "source": [
    "# Cost function"
   ]
  },
  {
   "cell_type": "markdown",
   "metadata": {},
   "source": [
    "# $$L = \\frac{1}{N}\\sum_{i=0}^N(\\hat{y_i} - y_i)^2$$"
   ]
  },
  {
   "cell_type": "markdown",
   "metadata": {},
   "source": [
    "## $$\\epsilon_i = \\hat{y_i} - y_i$$"
   ]
  },
  {
   "cell_type": "markdown",
   "metadata": {},
   "source": [
    "The meaning of cost function is estimating how good our $w_i$ are. The \"better\" the $w_i$ the lower the loss/cost.\n",
    "In regression the most used cost is _least squares_. https://en.wikipedia.org/wiki/Least_squares\n",
    "\n",
    "The $\\epsilon_i$ represents the error of our prediction with respect to ground truth value. This is also called _residual_."
   ]
  },
  {
   "cell_type": "code",
   "execution_count": 12,
   "metadata": {},
   "outputs": [],
   "source": [
    "def cost(x, y, w_0, w_1):\n",
    "    y_pred = w_0 + w_1 * x\n",
    "    error = y - y_pred\n",
    "    squared_error = error ** 2\n",
    "    return squared_error.mean()\n"
   ]
  },
  {
   "cell_type": "code",
   "execution_count": 13,
   "metadata": {},
   "outputs": [
    {
     "data": {
      "text/plain": [
       "173.65909955743115"
      ]
     },
     "metadata": {},
     "output_type": "display_data"
    },
    {
     "data": {
      "text/plain": [
       "<function __main__.cost>"
      ]
     },
     "execution_count": 13,
     "metadata": {},
     "output_type": "execute_result"
    }
   ],
   "source": [
    "interact(cost, w_0=(-5.0, 5.0), w_1=(-5.0, 5.0), x=fixed(x), y=fixed(y))"
   ]
  },
  {
   "cell_type": "markdown",
   "metadata": {},
   "source": [
    "# Optimization"
   ]
  },
  {
   "cell_type": "markdown",
   "metadata": {},
   "source": [
    "The main problem of today's workshop is optimization. There exist many approaches that try to solve it. Optimization is the process of finding the best _paramters_ with respect to some _value_. It is mainly finding _parameters_ that minimize/maximize the _value_.\n",
    "\n",
    "We fill focus on finding the $w_i$ that minimize $L$ (we will use only $w_0$ and $w_1$).\n",
    "\n",
    "One approach could be: choose let's say 10 000 different values of $w_0$ and $w_1$ and pick the values that minimize $L$.\n",
    "\n",
    "More clever approach is solving the equation _analytically_. It will give you the _exact solution_. In linear regression it is possible."
   ]
  },
  {
   "cell_type": "markdown",
   "metadata": {},
   "source": [
    "### Gradient descent"
   ]
  },
  {
   "cell_type": "markdown",
   "metadata": {},
   "source": [
    "However there exist another family of algorithm that optimize a function and do it _numerically_. The main algorithm is _gradient descent_. The main idea of _GD_ is changing the $w_i$ by really small value in a direction that minimizes $L$.\n",
    "\n",
    "It's an iterative algorithm. It means that you repeat the step explained before until you are satisfied with your results."
   ]
  },
  {
   "cell_type": "markdown",
   "metadata": {},
   "source": [
    "Very good source explaining gradient descent: http://lmgtfy.com/?q=gradient+descent\n",
    "\n",
    "There are many videos/posts explaining that algorithm. Here is script from _CS229: Machine Learning_ course at Stanford University (taught previously by Andrew Ng). http://cs229.stanford.edu/notes/cs229-notes1.pdf\n",
    "\n",
    "Whole course: http://cs229.stanford.edu/syllabus.html"
   ]
  },
  {
   "cell_type": "markdown",
   "metadata": {},
   "source": [
    "$$ \\epsilon = \\frac{1}{N}\\sum_{i}^N \\epsilon_i $$\n",
    "$$ k = \\frac{1}{N}\\sum_{i}^N \\epsilon_i x_i $$\n",
    "$$ w_0 = w_0 - 2 \\alpha \\epsilon $$\n",
    "$$ w_1 = w_1 - 2 \\alpha k $$\n"
   ]
  },
  {
   "cell_type": "markdown",
   "metadata": {},
   "source": [
    "Remember that you need to update $w_0$ and $w_1$ simultaneously. You shouldn't update $w_0$ and then use it too calculate $k$. You should compute $\\epsilon$ and $k$ before and store it."
   ]
  },
  {
   "cell_type": "code",
   "execution_count": 54,
   "metadata": {},
   "outputs": [],
   "source": [
    "def gradient_step(x, y, w_0, w_1, alpha=0.01):\n",
    "    y_pred = w_0 + w_1 * x\n",
    "    errs = y_pred - y\n",
    "    eps = 1 / len(x) * errs.sum()\n",
    "    k = 1 / len(x) * errs.dot(x)\n",
    "    \n",
    "    w_0 -= alpha * eps\n",
    "    w_1 -= alpha * k\n",
    "    return((w_0, w_1))"
   ]
  },
  {
   "cell_type": "code",
   "execution_count": 59,
   "metadata": {},
   "outputs": [],
   "source": [
    "#gradient_step = andrzej.gradient_step"
   ]
  },
  {
   "cell_type": "code",
   "execution_count": 60,
   "metadata": {},
   "outputs": [
    {
     "data": {
      "text/plain": [
       "(0.2416909587033409, 1.6033425297881301)"
      ]
     },
     "execution_count": 60,
     "metadata": {},
     "output_type": "execute_result"
    }
   ],
   "source": [
    "gradient_step(x, y, 0, 0)"
   ]
  },
  {
   "cell_type": "code",
   "execution_count": 72,
   "metadata": {},
   "outputs": [],
   "source": [
    "def gradient_descent(x, y, w_0=0.0, w_1=0.0, alpha=0.01, steps=1000, history=True, verbose=True):\n",
    "    w_history = [(w_0, w_1)]\n",
    "    cost_history = []\n",
    "    for i in range(steps):\n",
    "        current_cost =  cost(x, y, w_0, w_1)\n",
    "        if verbose and i%100 == 0:\n",
    "            print(\"Current cost: \", current_cost)\n",
    "        cost_history.append(current_cost)\n",
    "        \n",
    "        w_0, w_1 = gradient_step( x, y, w_0, w_1,alpha)\n",
    "        w_history.append((w_0, w_1))\n",
    "    if not history:\n",
    "        return w_0, w_1\n",
    "    else:\n",
    "        return w_0, w_1, w_history, cost_history"
   ]
  },
  {
   "cell_type": "code",
   "execution_count": 96,
   "metadata": {},
   "outputs": [
    {
     "name": "stdout",
     "output_type": "stream",
     "text": [
      "w_0: 1.3576937735233188\n",
      "w_1: 1.950337107328074\n"
     ]
    },
    {
     "data": {
      "image/png": "[encoded data removed]",
      "text/plain": [
       "<matplotlib.figure.Figure at 0x7f11f2dcc550>"
      ]
     },
     "metadata": {},
     "output_type": "display_data"
    }
   ],
   "source": [
    "w_0, w_1, w_history, cost_history = gradient_descent(x, y, alpha=0.02, steps=2000, history=True, verbose=False)\n",
    "print(\"w_0: {}\".format(w_0))\n",
    "print(\"w_1: {}\".format(w_1))\n",
    "plot_linear_model(w_0, w_1)"
   ]
  },
  {
   "cell_type": "code",
   "execution_count": 85,
   "metadata": {},
   "outputs": [
    {
     "data": {
      "image/png": "[encoded data removed]",
      "text/plain": [
       "<matplotlib.figure.Figure at 0x7f11f307db38>"
      ]
     },
     "metadata": {},
     "output_type": "display_data"
    }
   ],
   "source": [
    "plt.plot(np.arange(len(cost_history)), cost_history)\n",
    "plt.show()"
   ]
  },
  {
   "cell_type": "code",
   "execution_count": 86,
   "metadata": {},
   "outputs": [],
   "source": [
    "def plot_gradient_descent(idx, history):\n",
    "    w_0, w_1 = history[idx]\n",
    "    y_pred = w_1 * x + w_0\n",
    "    plt.scatter(x, y)\n",
    "    plt.plot(x, y_pred, 'r')\n",
    "    plt.xlim([x.min() - 5, x.max() + 5])\n",
    "    plt.ylim([y.min() - 5, y.max() + 5])\n",
    "    plt.show()\n",
    "    print(\"w_0: {}\".format(w_0))\n",
    "    print(\"w_1: {}\".format(w_1))"
   ]
  },
  {
   "cell_type": "code",
   "execution_count": 39,
   "metadata": {},
   "outputs": [
    {
     "data": {
      "image/png": "[encoded data removed]",
      "text/plain": [
       "<matplotlib.figure.Figure at 0x7f11f2f8ccf8>"
      ]
     },
     "metadata": {},
     "output_type": "display_data"
    },
    {
     "name": "stdout",
     "output_type": "stream",
     "text": [
      "w_0: 0.1407269370093484\n",
      "w_1: 0.929129061275323\n"
     ]
    },
    {
     "data": {
      "text/plain": [
       "<function __main__.plot_gradient_descent>"
      ]
     },
     "execution_count": 39,
     "metadata": {},
     "output_type": "execute_result"
    }
   ],
   "source": [
    "interact(plot_gradient_descent, idx=(0, len(w_history)-1), history=fixed(w_history))"
   ]
  },
  {
   "cell_type": "markdown",
   "metadata": {},
   "source": [
    "# Sklearn"
   ]
  },
  {
   "cell_type": "markdown",
   "metadata": {},
   "source": [
    "Now you can compare your solutions to one's provided by most used library in machine learning, which is _scikit-learn_. In day to day work you normally don't implement algorithms like _linear regression_, but you should now how it is implemented to use it properly."
   ]
  },
  {
   "cell_type": "code",
   "execution_count": 40,
   "metadata": {},
   "outputs": [],
   "source": [
    "from sklearn.linear_model import LinearRegression"
   ]
  },
  {
   "cell_type": "code",
   "execution_count": 41,
   "metadata": {},
   "outputs": [],
   "source": [
    "model = LinearRegression()"
   ]
  },
  {
   "cell_type": "code",
   "execution_count": 42,
   "metadata": {},
   "outputs": [
    {
     "data": {
      "text/plain": [
       "LinearRegression(copy_X=True, fit_intercept=True, n_jobs=1, normalize=False)"
      ]
     },
     "execution_count": 42,
     "metadata": {},
     "output_type": "execute_result"
    }
   ],
   "source": [
    "model.fit(x.reshape(-1, 1), y) # X in sklearn must be two-dimensional"
   ]
  },
  {
   "cell_type": "code",
   "execution_count": 97,
   "metadata": {},
   "outputs": [
    {
     "name": "stdout",
     "output_type": "stream",
     "text": [
      "your w_0: 1.3576937735233188\n",
      "your w_1: 1.950337107328074\n",
      "0.899062413632\n",
      "sklearn w_0: 1.3576941603124588\n",
      "sklearn w_1: 1.9503370499735615\n",
      "0.899062413632\n"
     ]
    }
   ],
   "source": [
    "print(\"your w_0: {}\".format(w_0))\n",
    "print(\"your w_1: {}\".format(w_1))\n",
    "print(cost(x, y, w_0, w_1))\n",
    "\n",
    "print(\"sklearn w_0: {}\".format(model.intercept_))\n",
    "print(\"sklearn w_1: {}\".format(model.coef_[0]))\n",
    "print(cost(x, y, model.intercept_, model.coef_[0]))"
   ]
  },
  {
   "cell_type": "code",
   "execution_count": 89,
   "metadata": {},
   "outputs": [
    {
     "data": {
      "image/png": "[encoded data removed]",
      "text/plain": [
       "<matplotlib.figure.Figure at 0x7f11f3009390>"
      ]
     },
     "metadata": {},
     "output_type": "display_data"
    }
   ],
   "source": [
    "plot_linear_model(model.intercept_, model.coef_[0])"
   ]
  },
  {
   "cell_type": "code",
   "execution_count": null,
   "metadata": {},
   "outputs": [],
   "source": []
  }
 ],
 "metadata": {
  "kernelspec": {
   "display_name": "Python 3",
   "language": "python",
   "name": "python3"
  },
  "language_info": {
   "codemirror_mode": {
    "name": "ipython",
    "version": 3
   },
   "file_extension": ".py",
   "mimetype": "text/x-python",
   "name": "python",
   "nbconvert_exporter": "python",
   "pygments_lexer": "ipython3",
   "version": "3.6.2"
  }
 },
 "nbformat": 4,
 "nbformat_minor": 2
}
